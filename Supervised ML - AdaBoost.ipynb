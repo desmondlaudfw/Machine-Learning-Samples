{
 "cells": [
  {
   "cell_type": "markdown",
   "metadata": {},
   "source": [
    "## AdaBoost (AdB)"
   ]
  },
  {
   "cell_type": "markdown",
   "metadata": {},
   "source": [
    "**AdaBoost is emsemble algorithm, begins by fitting a classifier on the original dataset and then fits additional copies of the classifier on the same dataset but where the weights of incorrectly classified instances are adjusted such that subsequent classifiers focus more on difficult cases.**\n",
    "\n",
    "It is meta algorithm combining many relatively weak and inaccurate classifiers to create a highly accurate classifier.\n",
    "\n",
    "AdaBoost is adaptive in the sense that subsequent classifiers added at each round of boosting are tweaked in favor of those instances misclassified by previous classifiers.\n",
    " \n",
    "\n",
    "Advantages:\n",
    "- Fast and easy to implement due to it's simplicity\n",
    "\n",
    "\n",
    "Disadvantages:\n"
   ]
  },
  {
   "cell_type": "code",
   "execution_count": 1,
   "metadata": {
    "collapsed": true
   },
   "outputs": [],
   "source": [
    "import random\n",
    "\n",
    "def makeTerrainData(n_points=1000):\n",
    "### make the toy dataset\n",
    "    random.seed(42)\n",
    "    grade = [random.random() for ii in range(0,n_points)]\n",
    "    bumpy = [random.random() for ii in range(0,n_points)]\n",
    "    error = [random.random() for ii in range(0,n_points)]\n",
    "    y = [round(grade[ii]*bumpy[ii]+0.3+0.1*error[ii]) for ii in range(0,n_points)]\n",
    "    for ii in range(0, len(y)):\n",
    "        if grade[ii]>0.8 or bumpy[ii]>0.8:\n",
    "            y[ii] = 1.0\n",
    "\n",
    "### split into train/test sets\n",
    "    X = [[gg, ss] for gg, ss in zip(grade, bumpy)]\n",
    "    split = int(0.75*n_points)\n",
    "    X_train = X[0:split]\n",
    "    X_test  = X[split:]\n",
    "    y_train = y[0:split]\n",
    "    y_test  = y[split:]\n",
    "\n",
    "    grade_sig = [X_train[ii][0] for ii in range(0, len(X_train)) if y_train[ii]==0]\n",
    "    bumpy_sig = [X_train[ii][1] for ii in range(0, len(X_train)) if y_train[ii]==0]\n",
    "    grade_bkg = [X_train[ii][0] for ii in range(0, len(X_train)) if y_train[ii]==1]\n",
    "    bumpy_bkg = [X_train[ii][1] for ii in range(0, len(X_train)) if y_train[ii]==1]\n",
    "    \n",
    "    test_data = {\"fast\":{\"grade\":grade_sig, \"bumpiness\":bumpy_sig}\n",
    "            , \"slow\":{\"grade\":grade_bkg, \"bumpiness\":bumpy_bkg}}\n",
    "\n",
    "    return X_train, y_train, X_test, y_test"
   ]
  },
  {
   "cell_type": "code",
   "execution_count": 45,
   "metadata": {
    "collapsed": true
   },
   "outputs": [],
   "source": [
    "def classifyAdaB(features_train, labels_train):   \n",
    "    ### import the sklearn module for Decision Tree\n",
    "    ### create classifier\n",
    "    ### fit the classifier on the training features and labels\n",
    "    ### return the fit classifier\n",
    "    \n",
    "    from sklearn.ensemble import AdaBoostClassifier\n",
    "    clf = AdaBoostClassifier()\n",
    "    clf.fit(features_train, labels_train)\n",
    "    return clf"
   ]
  },
  {
   "cell_type": "code",
   "execution_count": 3,
   "metadata": {
    "collapsed": false
   },
   "outputs": [],
   "source": [
    "import matplotlib \n",
    "matplotlib.use('agg')\n",
    "\n",
    "import matplotlib.pyplot as plt\n",
    "import pylab as pl\n",
    "import numpy as np\n",
    "\n",
    "import base64\n",
    "import json\n",
    "import subprocess\n",
    "\n",
    "def prettyPicture(clf, X_test, y_test):\n",
    "    x_min = 0.0; x_max = 1.0\n",
    "    y_min = 0.0; y_max = 1.0\n",
    "\n",
    "    # Plot the decision boundary. For that, we will assign a color to each\n",
    "    # point in the mesh [x_min, m_max]x[y_min, y_max].\n",
    "    h = .01  # step size in the mesh\n",
    "    xx, yy = np.meshgrid(np.arange(x_min, x_max, h), np.arange(y_min, y_max, h))\n",
    "    Z = clf.predict(np.c_[xx.ravel(), yy.ravel()])\n",
    "\n",
    "    # Put the result into a color plot\n",
    "    %matplotlib inline\n",
    "    Z = Z.reshape(xx.shape)\n",
    "    plt.xlim(xx.min(), xx.max())\n",
    "    plt.ylim(yy.min(), yy.max())\n",
    "\n",
    "    plt.pcolormesh(xx, yy, Z, cmap=pl.cm.seismic)\n",
    "\n",
    "    # Plot also the test points\n",
    "    grade_sig = [X_test[ii][0] for ii in range(0, len(X_test)) if y_test[ii]==0]\n",
    "    bumpy_sig = [X_test[ii][1] for ii in range(0, len(X_test)) if y_test[ii]==0]\n",
    "    grade_bkg = [X_test[ii][0] for ii in range(0, len(X_test)) if y_test[ii]==1]\n",
    "    bumpy_bkg = [X_test[ii][1] for ii in range(0, len(X_test)) if y_test[ii]==1]\n",
    "\n",
    "    plt.scatter(grade_sig, bumpy_sig, color = \"b\", label=\"fast\")\n",
    "    plt.scatter(grade_bkg, bumpy_bkg, color = \"r\", label=\"slow\")\n",
    "    plt.legend()\n",
    "    plt.xlabel(\"bumpiness\")\n",
    "    plt.ylabel(\"grade\")\n",
    "\n",
    "    #plt.savefig(\"test.png\")\n",
    "    \n",
    "def output_image(name, format, bytes):\n",
    "    image_start = \"BEGIN_IMAGE_f9825uweof8jw9fj4r8\"\n",
    "    image_end = \"END_IMAGE_0238jfw08fjsiufhw8frs\"\n",
    "    data = {}\n",
    "    data['name'] = name\n",
    "    data['format'] = format\n",
    "    data['bytes'] = base64.encodestring(bytes)\n",
    "    print(image_start, json.dumps(data), image_end)"
   ]
  },
  {
   "cell_type": "code",
   "execution_count": 46,
   "metadata": {
    "collapsed": false
   },
   "outputs": [
    {
     "data": {
      "image/png": "[encoded data removed]",
      "text/plain": [
       "<matplotlib.figure.Figure at 0x227f4b9d198>"
      ]
     },
     "metadata": {},
     "output_type": "display_data"
    }
   ],
   "source": [
    "# MAIN\n",
    "\n",
    "\"\"\"Use sklearn Adaboost classifier to classify the terrain data.\n",
    "   Objective of this exercise is to recreate the decision boundary found in the lesson video, and make a plot that\n",
    "   visually shows the decision boundary \"\"\" \n",
    "features_train, labels_train, features_test, labels_test = makeTerrainData()\n",
    "\n",
    "# the training data (features_train, labels_train) have both \"fast\" and \"slow\" points mixed\n",
    "# in together--separate them so we can give them different colors in the scatterplot,\n",
    "# and visually identify them\n",
    "grade_fast = [features_train[ii][0] for ii in range(0, len(features_train)) if labels_train[ii]==0]\n",
    "bumpy_fast = [features_train[ii][1] for ii in range(0, len(features_train)) if labels_train[ii]==0]\n",
    "grade_slow = [features_train[ii][0] for ii in range(0, len(features_train)) if labels_train[ii]==1]\n",
    "bumpy_slow = [features_train[ii][1] for ii in range(0, len(features_train)) if labels_train[ii]==1]\n",
    "\n",
    "clf = classifyAdaB(features_train, labels_train)\n",
    "\n",
    "# draw the decision boundary with the text points overlaid\n",
    "prettyPicture(clf, features_test, labels_test)"
   ]
  },
  {
   "cell_type": "code",
   "execution_count": 63,
   "metadata": {
    "collapsed": false
   },
   "outputs": [
    {
     "name": "stdout",
     "output_type": "stream",
     "text": [
      "90.4%\n"
     ]
    }
   ],
   "source": [
    "# Calculating Decision Tree accuracy\n",
    "# DecisionTreeClassifier 92.4%\n",
    "# RidgeClassifierCV 91.2%\n",
    "# SGDClassifier 91.6%\n",
    "# BernoulliNB, MultinomialNB 66.4%\n",
    "# ExtraTreesClassifier 92.4%\n",
    "# RandomForestClassifier 91.6%\n",
    "# SVC, NuSVC 66.4%\n",
    "# Perceptron 90.4%\n",
    "\n",
    "from sklearn.ensemble import AdaBoostClassifier\n",
    "from sklearn.metrics import accuracy_score\n",
    "\n",
    "# SGDClassifier, RidgeClassifierCV\n",
    "from sklearn import linear_model \n",
    "# BernoulliNB, MultinomialNB\n",
    "from sklearn.naive_bayes import BernoulliNB, MultinomialNB  \n",
    "# ExtraTreesClassifier, RandomForestClassifier\n",
    "from sklearn.ensemble import ExtraTreesClassifier, RandomForestClassifier \n",
    "# SVC, NuSVC\n",
    "from sklearn.svm import SVC, NuSVC\n",
    "\n",
    "\n",
    "# clf = AdaBoostClassifier(algorithm='SAMME', base_estimator=linear_model.SGDClassifier())\n",
    "# clf = AdaBoostClassifier(algorithm='SAMME', base_estimator=linear_model.RidgeClassifierCV())\n",
    "clf = AdaBoostClassifier(algorithm='SAMME', base_estimator=linear_model.Perceptron())\n",
    "# clf = AdaBoostClassifier(algorithm='SAMME', base_estimator=BernoulliNB())\n",
    "# clf = AdaBoostClassifier(algorithm='SAMME', base_estimator=ExtraTreesClassifier())\n",
    "# clf = AdaBoostClassifier(algorithm='SAMME', base_estimator=RandomForestClassifier())\n",
    "# clf = AdaBoostClassifier(algorithm='SAMME', base_estimator=MultinomialNB())\n",
    "# clf = AdaBoostClassifier(algorithm='SAMME', base_estimator=SVC())\n",
    "# clf = AdaBoostClassifier(algorithm='SAMME', base_estimator=NuSVC)\n",
    "clf.fit(features_train, labels_train)\n",
    "pred = clf.predict(features_test)\n",
    "print(\"{0}%\".format(accuracy_score(labels_test, pred)*100))"
   ]
  },
  {
   "cell_type": "code",
   "execution_count": 64,
   "metadata": {
    "collapsed": false
   },
   "outputs": [
    {
     "name": "stdout",
     "output_type": "stream",
     "text": [
      "('AdaBoostClassifier', <class 'sklearn.ensemble.weight_boosting.AdaBoostClassifier'>)\n",
      "('BaggingClassifier', <class 'sklearn.ensemble.bagging.BaggingClassifier'>)\n",
      "('BernoulliNB', <class 'sklearn.naive_bayes.BernoulliNB'>)\n",
      "('CalibratedClassifierCV', <class 'sklearn.calibration.CalibratedClassifierCV'>)\n",
      "('DecisionTreeClassifier', <class 'sklearn.tree.tree.DecisionTreeClassifier'>)\n",
      "('ExtraTreeClassifier', <class 'sklearn.tree.tree.ExtraTreeClassifier'>)\n",
      "('ExtraTreesClassifier', <class 'sklearn.ensemble.forest.ExtraTreesClassifier'>)\n",
      "('GaussianNB', <class 'sklearn.naive_bayes.GaussianNB'>)\n",
      "('GaussianProcessClassifier', <class 'sklearn.gaussian_process.gpc.GaussianProcessClassifier'>)\n",
      "('GradientBoostingClassifier', <class 'sklearn.ensemble.gradient_boosting.GradientBoostingClassifier'>)\n",
      "('KNeighborsClassifier', <class 'sklearn.neighbors.classification.KNeighborsClassifier'>)\n",
      "('LDA', <class 'sklearn.discriminant_analysis.LinearDiscriminantAnalysis'>)\n",
      "('LabelPropagation', <class 'sklearn.semi_supervised.label_propagation.LabelPropagation'>)\n",
      "('LabelSpreading', <class 'sklearn.semi_supervised.label_propagation.LabelSpreading'>)\n",
      "('LinearDiscriminantAnalysis', <class 'sklearn.discriminant_analysis.LinearDiscriminantAnalysis'>)\n",
      "('LinearSVC', <class 'sklearn.svm.classes.LinearSVC'>)\n",
      "('LogisticRegression', <class 'sklearn.linear_model.logistic.LogisticRegression'>)\n",
      "('LogisticRegressionCV', <class 'sklearn.linear_model.logistic.LogisticRegressionCV'>)\n",
      "('MLPClassifier', <class 'sklearn.neural_network.multilayer_perceptron.MLPClassifier'>)\n",
      "('MultinomialNB', <class 'sklearn.naive_bayes.MultinomialNB'>)\n",
      "('NearestCentroid', <class 'sklearn.neighbors.nearest_centroid.NearestCentroid'>)\n",
      "('NuSVC', <class 'sklearn.svm.classes.NuSVC'>)\n",
      "('PassiveAggressiveClassifier', <class 'sklearn.linear_model.passive_aggressive.PassiveAggressiveClassifier'>)\n",
      "('Perceptron', <class 'sklearn.linear_model.perceptron.Perceptron'>)\n",
      "('QDA', <class 'sklearn.discriminant_analysis.QuadraticDiscriminantAnalysis'>)\n",
      "('QuadraticDiscriminantAnalysis', <class 'sklearn.discriminant_analysis.QuadraticDiscriminantAnalysis'>)\n",
      "('RadiusNeighborsClassifier', <class 'sklearn.neighbors.classification.RadiusNeighborsClassifier'>)\n",
      "('RandomForestClassifier', <class 'sklearn.ensemble.forest.RandomForestClassifier'>)\n",
      "('RidgeClassifier', <class 'sklearn.linear_model.ridge.RidgeClassifier'>)\n",
      "('RidgeClassifierCV', <class 'sklearn.linear_model.ridge.RidgeClassifierCV'>)\n",
      "('SGDClassifier', <class 'sklearn.linear_model.stochastic_gradient.SGDClassifier'>)\n",
      "('SVC', <class 'sklearn.svm.classes.SVC'>)\n"
     ]
    }
   ],
   "source": [
    "import inspect\n",
    "from sklearn.utils.testing import all_estimators\n",
    "for name in all_estimators(type_filter='classifier'):\n",
    "        print(name)"
   ]
  },
  {
   "cell_type": "code",
   "execution_count": null,
   "metadata": {
    "collapsed": true
   },
   "outputs": [],
   "source": []
  }
 ],
 "metadata": {
  "anaconda-cloud": {},
  "kernelspec": {
   "display_name": "Python [Root]",
   "language": "python",
   "name": "Python [Root]"
  },
  "language_info": {
   "codemirror_mode": {
    "name": "ipython",
    "version": 3
   },
   "file_extension": ".py",
   "mimetype": "text/x-python",
   "name": "python",
   "nbconvert_exporter": "python",
   "pygments_lexer": "ipython3",
   "version": "3.5.2"
  }
 },
 "nbformat": 4,
 "nbformat_minor": 0
}
